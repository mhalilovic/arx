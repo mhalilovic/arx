{
 "cells": [
  {
   "cell_type": "code",
   "execution_count": null,
   "outputs": [],
   "source": [
    "import pandas as pd\n",
    "import matplotlib.pyplot as plt\n",
    "\n",
    "df = pd.read_csv('result_memory.csv', sep=\";\")\n",
    "print(df)"
   ],
   "metadata": {
    "collapsed": false
   }
  },
  {
   "cell_type": "code",
   "execution_count": null,
   "outputs": [],
   "source": [
    "i = 0\n",
    "for config in df.groupby('Config').last().reset_index()['Config']:\n",
    "    for local in df.groupby('Local').last().reset_index()['Local']:\n",
    "        threads = df.loc[df.Config == config]\n",
    "        threads = threads.loc[df.Local == local][\"Threads\"]\n",
    "        memory = df.loc[df.Config == config]\n",
    "        memory = memory.loc[df.Local == local][\"Memory\"] / 1000000 # to get MB\n",
    "        width = 0.35\n",
    "        granularity = df.loc[df.Config == config]\n",
    "        granularity = granularity.loc[df.Local == local][\"Granularity\"]\n",
    "        if threads.size > 0:\n",
    "            i = i + 1\n",
    "            fig, ax1 = plt.subplots()\n",
    "            ax2 = ax1.twinx()\n",
    "            ax1.set_ylim(0, memory.max() * 1.1)\n",
    "            ax2.set_ylim(0, 1.1)\n",
    "            ax1.bar(threads, memory, width=width, label=\"Memory\")\n",
    "            ax1.set_ylabel(\"Memory in MB\")\n",
    "            ax2.plot(threads, granularity, label=\"Granularity\", color=\"k\", marker=\".\")\n",
    "            ax2.set_ylabel(\"Granularity\")\n",
    "            #ax1.legend(loc=1)\n",
    "            #ax2.legend(loc=9)\n",
    "            handles, labels = ax1.get_legend_handles_labels()\n",
    "            handles2, labels2 = ax2.get_legend_handles_labels()\n",
    "            ax1.legend(handles+handles2, labels+labels2)\n",
    "            if local:\n",
    "                ax1.set_title(config + \" (local)\")\n",
    "            else:\n",
    "                ax1.set_title(config)\n",
    "            #plt.xticks(range(1,threads.size+1))\n",
    "            plt.savefig(\"test.svg\", format='svg')\n",
    "            plt.savefig(\"test.png\", format='png')\n",
    "            plt.show()\n",
    "print(i)"
   ],
   "metadata": {
    "collapsed": false
   }
  },
  {
   "cell_type": "code",
   "execution_count": null,
   "outputs": [],
   "source": [
    "for config in df.groupby('Config').last().reset_index()['Config']:\n",
    "    for local in df.groupby('Local').last().reset_index()['Local']:\n",
    "        threads = df.loc[df.Config == config]\n",
    "        threads = threads.loc[df.Local == local][\"Threads\"]\n",
    "        memory = df.loc[df.Config == config]\n",
    "        memory = memory.loc[df.Local == local][\"Memory\"] / 1000000 # to get MB\n",
    "        width = 0.35\n",
    "        granularity = df.loc[df.Config == config]\n",
    "        granularity = granularity.loc[df.Local == local][\"Granularity\"]\n",
    "        if threads.size > 0:\n",
    "            fig, ax1 = plt.subplots()\n",
    "            ax2 = ax1.twinx()\n",
    "            ax1.set_ylim(0, memory.max() * 1.1)\n",
    "            ax2.set_ylim(0, 1.1)\n",
    "            ax1.plot(threads, memory, label=\"Memory\", color=\"r\", marker=\".\")\n",
    "            ax1.set_ylabel(\"Memory in MB\")\n",
    "            ax2.plot(threads, granularity, label=\"Granularity\", color=\"k\", marker=\".\")\n",
    "            ax2.set_ylabel(\"Granularity\")\n",
    "            #ax1.legend(loc=1)\n",
    "            #ax2.legend(loc=9)\n",
    "            handles, labels = ax1.get_legend_handles_labels()\n",
    "            handles2, labels2 = ax2.get_legend_handles_labels()\n",
    "            ax1.legend(handles+handles2, labels+labels2)\n",
    "            if local:\n",
    "                ax1.set_title(config + \" (local)\")\n",
    "                plt.savefig(\"images/memory_\" + config + \"_local.svg\", format='svg')\n",
    "                plt.savefig(\"images/memory_\" + config + \"_local.png\", format='png')\n",
    "            else:\n",
    "                ax1.set_title(config)\n",
    "                plt.savefig(\"images/memory_\" + config + \".svg\", format='svg')\n",
    "                plt.savefig(\"images/memory_\" + config + \".png\", format='png')\n",
    "                #plt.xticks(range(1,threads.size+1))\n",
    "            plt.show()\n"
   ],
   "metadata": {
    "collapsed": false
   }
  },
  {
   "cell_type": "code",
   "execution_count": null,
   "outputs": [],
   "source": [
    "for config in df.groupby('Config').last().reset_index()['Config']:\n",
    "    for local in df.groupby('Local').last().reset_index()['Local']:\n",
    "        threads = df.loc[df.Config == config]\n",
    "        threads = threads.loc[df.Local == local][\"Threads\"]\n",
    "        if threads.size > 0:\n",
    "            if local:\n",
    "                print(config + \" (local)\")\n",
    "            else:\n",
    "                print(config)\n"
   ],
   "metadata": {
    "collapsed": false
   }
  },
  {
   "cell_type": "code",
   "execution_count": null,
   "outputs": [],
   "source": [
    "s = \"[\"\n",
    "for config in df.groupby('Config').last().reset_index()['Config']:\n",
    "    threads = df.loc[df.Config == config]\n",
    "    threads = threads.loc[df.Local == False][\"Threads\"]\n",
    "    if threads.size > 0 and not configs.__contains__(config):\n",
    "            s = s + '\\'' + config + '\\','\n",
    "\n",
    "print(s)"
   ],
   "metadata": {
    "collapsed": false
   }
  },
  {
   "cell_type": "code",
   "execution_count": null,
   "outputs": [],
   "source": [
    "# for which local exists\n",
    "configs = ['0.01-average-risk','0.05-average-risk','0.2-equal-closeness','0.2-equal-closeness (global distribution)','0.5-equal-closeness','0.5-equal-closeness (global distribution)','1-disclosure-privacy','1-enhanced-likeness','1-enhanced-likeness (global distribution)','11-anonymity','2-disclosure-privacy','2-enhanced-likeness','2-enhanced-likeness (global distribution)','5-anonymity','distinct-3-diversity','distinct-5-diversity','entropy-3-diversity','entropy-5-diversity']"
   ],
   "metadata": {
    "collapsed": false
   }
  },
  {
   "cell_type": "code",
   "execution_count": null,
   "outputs": [],
   "source": [
    "configs_avg_risk = ['0.01-average-risk','0.05-average-risk']\n",
    "configs_equal_closeness = ['0.2-equal-closeness','0.2-equal-closeness (global distribution)','0.5-equal-closeness','0.5-equal-closeness (global distribution)']\n",
    "configs_disclosure = ['1-disclosure-privacy','2-disclosure-privacy']\n",
    "configs_diversity = ['distinct-3-diversity','distinct-5-diversity','entropy-3-diversity','entropy-5-diversity']\n",
    "configs_enhanced = ['1-enhanced-likeness','1-enhanced-likeness (global distribution)','2-enhanced-likeness','2-enhanced-likeness (global distribution)']\n",
    "configs_k_anonymity = ['5-anonymity', '11-anonymity']\n",
    "configs_dp = ['(e10-6, 1.0)-differential privacy','(e10-6, 2.0)-differential privacy','(e10-6, 3.0)-differential privacy','(e10-6, 4.0)-differential privacy','(e10-6, 5.0)-differential privacy']"
   ],
   "metadata": {
    "collapsed": false
   }
  },
  {
   "cell_type": "code",
   "execution_count": null,
   "outputs": [],
   "source": [],
   "metadata": {
    "collapsed": false
   }
  },
  {
   "cell_type": "code",
   "execution_count": null,
   "outputs": [],
   "source": [],
   "metadata": {
    "collapsed": false
   }
  }
 ],
 "metadata": {
  "kernelspec": {
   "display_name": "Python 3",
   "language": "python",
   "name": "python3"
  },
  "language_info": {
   "codemirror_mode": {
    "name": "ipython",
    "version": 2
   },
   "file_extension": ".py",
   "mimetype": "text/x-python",
   "name": "python",
   "nbconvert_exporter": "python",
   "pygments_lexer": "ipython2",
   "version": "2.7.6"
  }
 },
 "nbformat": 4,
 "nbformat_minor": 0
}
