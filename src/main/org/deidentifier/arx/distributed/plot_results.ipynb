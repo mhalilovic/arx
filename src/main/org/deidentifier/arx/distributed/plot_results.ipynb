{
 "cells": [
  {
   "cell_type": "code",
   "execution_count": null,
   "outputs": [],
   "source": [
    "import pandas as pd\n",
    "import matplotlib.pyplot as plt\n",
    "\n",
    "df = pd.read_csv('result_copy.csv', sep=\";\")\n",
    "df_mem = pd.read_csv('result_memory.csv', sep=\";\")\n",
    "\n",
    "print(df)"
   ],
   "metadata": {
    "collapsed": false
   }
  },
  {
   "cell_type": "code",
   "execution_count": null,
   "outputs": [],
   "source": [
    "\n",
    "# All groups of plots I want to plot:\n",
    "configs_avg_risk = ['0.01-average-risk','0.05-average-risk']\n",
    "configs_equal_closeness = ['0.2-equal-closeness','0.2-equal-closeness (global distribution)','0.5-equal-closeness','0.5-equal-closeness (global distribution)']\n",
    "configs_disclosure_privacy = ['1-disclosure-privacy','2-disclosure-privacy']\n",
    "configs_diversity = ['distinct-3-diversity','distinct-5-diversity','entropy-3-diversity','entropy-5-diversity']\n",
    "configs_enhanced_likeness = ['1-enhanced-likeness','1-enhanced-likeness (global distribution)','2-enhanced-likeness','2-enhanced-likeness (global distribution)']\n",
    "configs_k_anonymity = ['5-anonymity', '11-anonymity']\n",
    "configs_dp = ['(e10-6, 1.0)-differential privacy','(e10-6, 2.0)-differential privacy','(e10-6, 3.0)-differential privacy','(e10-6, 4.0)-differential privacy','(e10-6, 5.0)-differential privacy']"
   ],
   "metadata": {
    "collapsed": false
   }
  },
  {
   "cell_type": "code",
   "execution_count": null,
   "outputs": [],
   "source": [
    "df"
   ],
   "metadata": {
    "collapsed": false
   }
  },
  {
   "cell_type": "code",
   "execution_count": null,
   "outputs": [],
   "source": [
    "import matplotlib as mpl\n",
    "\n",
    "cmap = mpl.cm.get_cmap('Pastel2')\n",
    "print(cmap(0.5))"
   ],
   "metadata": {
    "collapsed": false
   }
  },
  {
   "cell_type": "code",
   "execution_count": null,
   "outputs": [],
   "source": [
    "color_map = ['red', 'orange', 'skyblue', 'royalblue', 'plum', 'cyan']\n",
    "\n",
    "def plot_results(locations, fig_size_x, fig_size_y, configs, filename):\n",
    "    fig = plt.figure(figsize=(fig_size_x, fig_size_y))\n",
    "    i = 0\n",
    "    print(configs)\n",
    "    for config in configs:\n",
    "        for local in df.groupby('Local').last().reset_index()['Local']:\n",
    "            threads = df.loc[df.Config == config]\n",
    "            threads = threads.loc[df.Local == local][\"Threads\"]\n",
    "            memory = df_mem.loc[df_mem.Config == config]\n",
    "            memory = memory.loc[df_mem.Local == local][\"Memory\"]/1000000.0\n",
    "            timePrepare = df.loc[df.Config == config]\n",
    "            timePrepare = timePrepare.loc[df.Local == local][\"TimePrepare\"]/1000.0\n",
    "            timeStep2A = df.loc[df.Config == config]\n",
    "            timeStep2A = timeStep2A.loc[df.Local == local][\"TimeStep2A\"]/1000.0\n",
    "            timeStep2B = df.loc[df.Config == config]\n",
    "            timeStep2B = timeStep2B.loc[df.Local == local][\"TimeStep2B\"]/1000.0\n",
    "            timeStep3 = df.loc[df.Config == config]\n",
    "            timeStep3 = timeStep3.loc[df.Local == local][\"TimeStep3\"]/1000.0\n",
    "            timePostproces = df.loc[df.Config == config]\n",
    "            timePostproces = timePostproces.loc[df.Local == local][\"TimePostproces\"]/1000.0\n",
    "            timeQuality = df.loc[df.Config == config]\n",
    "            timeQuality = timeQuality.loc[df.Local == local][\"TimeQuality\"]/1000.0\n",
    "            granularity = df.loc[df.Config == config]\n",
    "            granularity = granularity.loc[df.Local == local][\"Granularity\"]\n",
    "            ax1 = plt.subplot(locations[i])\n",
    "            ax2 = ax1.twinx()\n",
    "            ax3 = ax1.twinx()\n",
    "            ax2.set_ylim(0, 1.1)\n",
    "            ax1.stackplot(threads, timePrepare, timeQuality, timeStep2A, timeStep2B, timeStep3, timePostproces, labels=[\"Partitioning\", \"Calculate granularity\", \"Anonymization - If global, retrieve common scheme\", \"Anonymization - Perform local or global transformation\", \"Handle non-monotonic settings\", \"Merge partitions\"], colors = color_map)\n",
    "            ax1.margins(x=0) #remove space between graph and y-axis\n",
    "            ax1.set_xticks([1, 10, 20, 30, 40, 50, 60])\n",
    "            ax1.set_ylabel(\"Time in s\")\n",
    "            ax2.plot(threads, granularity, label=\"Granularity\", color=\"k\", marker=\".\", markersize=0.3)\n",
    "            ax3.plot(threads, memory, label=\"Memory\", color=\"r\", marker=\".\", markersize=0.3)\n",
    "            ax2.set_ylabel(\"Granularity\")\n",
    "            ax3.spines['right'].set_position(('axes', 1.25))\n",
    "            ax3.set_ylabel(\"Memory\")\n",
    "            ax3.set_ylim(0, memory.max() * 1.1)\n",
    "            handles, labels = ax1.get_legend_handles_labels()\n",
    "            handles2, labels2 = ax2.get_legend_handles_labels()\n",
    "            handles3, labels3 = ax3.get_legend_handles_labels()\n",
    "            if local:\n",
    "                ax1.set_title(config + \" (local)\")\n",
    "                plt.savefig(\"images/time_\" + config + \"_local.svg\", format='svg')\n",
    "                plt.savefig(\"images/time_\" + config + \"_local.png\", format='png')\n",
    "            else:\n",
    "                ax1.set_title(config)\n",
    "                plt.savefig(\"images/time_\" + config + \".svg\", format='svg')\n",
    "                plt.savefig(\"images/time_\" + config + \".png\", format='png')\n",
    "            i = i + 1\n",
    "            fig.legend(handles, labels, loc='upper center', bbox_to_anchor=(0.25, -0.05), fancybox=True, shadow=True, ncol=2)\n",
    "            fig.legend(handles2+handles3, labels2+labels3, loc='upper center', bbox_to_anchor=(0.77, -0.05), fancybox=True, shadow=True, ncol=1)\n",
    "    fig.tight_layout()\n",
    "    fig.savefig(filename, format='png', bbox_inches='tight')\n",
    "    plt.show()\n"
   ],
   "metadata": {
    "collapsed": false
   }
  },
  {
   "cell_type": "code",
   "execution_count": null,
   "outputs": [],
   "source": [
    "configs_diversity"
   ],
   "metadata": {
    "collapsed": false
   }
  },
  {
   "cell_type": "code",
   "execution_count": null,
   "outputs": [],
   "source": [
    "ta = [221, 222, 223, 224]\n",
    "fig_x = 10\n",
    "fig_y = 6\n",
    "plot_results(ta, fig_x, fig_y, configs_k_anonymity, \"images/anonymity.png\")"
   ],
   "metadata": {
    "collapsed": false
   }
  },
  {
   "cell_type": "code",
   "execution_count": null,
   "outputs": [],
   "source": [
    "ta = [241, 242, 243, 244, 245, 246, 247, 248]\n",
    "fig_x = 20\n",
    "fig_y = 6\n",
    "plot_results(ta, fig_x, fig_y, configs_diversity, \"images/diversity.png\")"
   ],
   "metadata": {
    "collapsed": false
   }
  },
  {
   "cell_type": "code",
   "execution_count": null,
   "outputs": [],
   "source": [
    "ta = [241, 242, 243, 244, 245, 246, 247, 248]\n",
    "fig_x = 20\n",
    "fig_y = 6\n",
    "plot_results(ta, fig_x, fig_y, configs_equal_closeness, \"images/equal-closeness.png\")"
   ],
   "metadata": {
    "collapsed": false
   }
  },
  {
   "cell_type": "code",
   "execution_count": null,
   "outputs": [],
   "source": [
    "ta = [221, 222, 223, 224]\n",
    "fig_x = 10\n",
    "fig_y = 6\n",
    "plot_results(ta, fig_x, fig_y, configs_avg_risk, \"images/avg-risk.png\")"
   ],
   "metadata": {
    "collapsed": false
   }
  },
  {
   "cell_type": "code",
   "execution_count": null,
   "outputs": [],
   "source": [
    "ta = [241, 242, 243, 244, 245, 246, 247, 248]\n",
    "fig_x = 20\n",
    "fig_y = 6\n",
    "plot_results(ta, fig_x, fig_y, configs_enhanced_likeness, \"images/enhanced-likeness.png\")"
   ],
   "metadata": {
    "collapsed": false
   }
  },
  {
   "cell_type": "code",
   "execution_count": null,
   "outputs": [],
   "source": [
    "ta = [221, 222, 223, 224]\n",
    "fig_x = 10\n",
    "fig_y = 6\n",
    "plot_results(ta, fig_x, fig_y, configs_disclosure_privacy, \"images/disclosure-privacy.png\")\n"
   ],
   "metadata": {
    "collapsed": false
   }
  },
  {
   "cell_type": "code",
   "execution_count": null,
   "outputs": [],
   "source": [
    "ta = [221, 222, 223, 224]\n",
    "fig_x = 10\n",
    "fig_y = 6\n",
    "plot_results(ta, fig_x, fig_y, configs_dp, \"images/dp.png\")"
   ],
   "metadata": {
    "collapsed": false
   }
  },
  {
   "cell_type": "code",
   "execution_count": null,
   "outputs": [],
   "source": [
    "ta = [221, 222, 223, 224]\n",
    "fig = plt.figure(figsize=(10, 6))\n",
    "filename = \"images/dp.png\"\n",
    "i = 0\n",
    "for config in configs_dp:\n",
    "    for local in [False]:\n",
    "        threads = df.loc[df.Config == config]\n",
    "        threads = threads.loc[df.Local == local][\"Threads\"]\n",
    "        memory = df_mem.loc[df_mem.Config == config]\n",
    "        memory = memory.loc[df_mem.Local == local][\"Memory\"]/1000000.0\n",
    "        timePrepare = df.loc[df.Config == config]\n",
    "        timePrepare = timePrepare.loc[df.Local == local][\"TimePrepare\"]/1000.0\n",
    "        timeStep2A = df.loc[df.Config == config]\n",
    "        timeStep2A = timeStep2A.loc[df.Local == local][\"TimeStep2A\"]/1000.0\n",
    "        timeStep2B = df.loc[df.Config == config]\n",
    "        timeStep2B = timeStep2B.loc[df.Local == local][\"TimeStep2B\"]/1000.0\n",
    "        timeStep3 = df.loc[df.Config == config]\n",
    "        timeStep3 = timeStep3.loc[df.Local == local][\"TimeStep3\"]/1000.0\n",
    "        timePostproces = df.loc[df.Config == config]\n",
    "        timePostproces = timePostproces.loc[df.Local == local][\"TimePostproces\"]/1000.0\n",
    "        timeQuality = df.loc[df.Config == config]\n",
    "        timeQuality = timeQuality.loc[df.Local == local][\"TimeQuality\"]/1000.0\n",
    "        granularity = df.loc[df.Config == config]\n",
    "        granularity = granularity.loc[df.Local == local][\"Granularity\"]\n",
    "        ax1 = plt.subplot(ta[i])\n",
    "        ax2 = ax1.twinx()\n",
    "        ax3 = ax1.twinx()\n",
    "        ax2.set_ylim(0, 1.1)\n",
    "        ax1.stackplot(threads, timePrepare, timeQuality, timeStep2A, timeStep2B, timeStep3, timePostproces, labels=[\"Partitioning\", \"Calculate granularity\", \"Anonymization - If global, retrieve common scheme\", \"Anonymization - Perform local or global transformation\", \"Handle non-monotonic settings\", \"Merge partitions\",])\n",
    "        ax1.margins(x=0) # remove space between graph and y axis\n",
    "        ax1.set_xticks([1, 10, 20, 30, 40, 50, 60])\n",
    "        ax1.set_ylabel(\"Time in s\")\n",
    "        ax2.plot(threads, granularity, label=\"Granularity\", color=\"k\", marker=\".\", markersize=1)\n",
    "        ax3.plot(threads, memory, label=\"Memory\", color=\"r\", marker=\".\", markersize=1)\n",
    "        ax2.set_ylabel(\"Granularity\")\n",
    "        ax3.spines['right'].set_position(('axes', 1.25))\n",
    "        ax3.set_ylabel(\"Memory\")\n",
    "        ax3.set_ylim(0, memory.max() * 1.1)\n",
    "        handles, labels = ax1.get_legend_handles_labels()\n",
    "        handles2, labels2 = ax2.get_legend_handles_labels()\n",
    "        handles3, labels3 = ax3.get_legend_handles_labels()\n",
    "        if local:\n",
    "            ax1.set_title(config + \" (local)\")\n",
    "            plt.savefig(\"images/time_\" + config + \"_local.svg\", format='svg')\n",
    "            plt.savefig(\"images/time_\" + config + \"_local.png\", format='png')\n",
    "        else:\n",
    "            ax1.set_title(config)\n",
    "            plt.savefig(\"images/time_\" + config + \".svg\", format='svg')\n",
    "            plt.savefig(\"images/time_\" + config + \".png\", format='png')\n",
    "        i = i + 1\n",
    "fig.legend(handles, labels, loc='upper center', bbox_to_anchor=(0.25, -0.05), fancybox=True, shadow=True, ncol=2)\n",
    "fig.legend(handles2+handles3, labels2+labels3, loc='upper center', bbox_to_anchor=(0.77, -0.05), fancybox=True, shadow=True, ncol=1)\n",
    "fig.tight_layout()\n",
    "fig.savefig(filename, format='png', bbox_inches='tight')\n",
    "plt.show()\n"
   ],
   "metadata": {
    "collapsed": false
   }
  },
  {
   "cell_type": "code",
   "execution_count": null,
   "outputs": [],
   "source": [],
   "metadata": {
    "collapsed": false
   }
  }
 ],
 "metadata": {
  "kernelspec": {
   "display_name": "Python 3",
   "language": "python",
   "name": "python3"
  },
  "language_info": {
   "codemirror_mode": {
    "name": "ipython",
    "version": 2
   },
   "file_extension": ".py",
   "mimetype": "text/x-python",
   "name": "python",
   "nbconvert_exporter": "python",
   "pygments_lexer": "ipython2",
   "version": "2.7.6"
  }
 },
 "nbformat": 4,
 "nbformat_minor": 0
}
