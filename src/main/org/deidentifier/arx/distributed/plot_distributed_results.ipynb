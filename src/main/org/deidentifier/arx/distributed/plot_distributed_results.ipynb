{
 "cells": [
  {
   "cell_type": "code",
   "execution_count": 1,
   "outputs": [
    {
     "ename": "FileNotFoundError",
     "evalue": "[Errno 2] No such file or directory: 'C:/Users/halilovm/Desktop/ARX_DISTRIBUTED_RESULTS/result_now_med01.csv'",
     "output_type": "error",
     "traceback": [
      "\u001B[1;31m---------------------------------------------------------------------------\u001B[0m",
      "\u001B[1;31mFileNotFoundError\u001B[0m                         Traceback (most recent call last)",
      "\u001B[1;32m~\\AppData\\Local\\Temp\\ipykernel_19520\\3459568309.py\u001B[0m in \u001B[0;36m<module>\u001B[1;34m\u001B[0m\n\u001B[0;32m      1\u001B[0m \u001B[1;32mimport\u001B[0m \u001B[0mpandas\u001B[0m \u001B[1;32mas\u001B[0m \u001B[0mpd\u001B[0m\u001B[1;33m\u001B[0m\u001B[1;33m\u001B[0m\u001B[0m\n\u001B[0;32m      2\u001B[0m \u001B[1;32mimport\u001B[0m \u001B[0mmatplotlib\u001B[0m\u001B[1;33m.\u001B[0m\u001B[0mpyplot\u001B[0m \u001B[1;32mas\u001B[0m \u001B[0mplt\u001B[0m\u001B[1;33m\u001B[0m\u001B[1;33m\u001B[0m\u001B[0m\n\u001B[1;32m----> 3\u001B[1;33m \u001B[0mdf\u001B[0m \u001B[1;33m=\u001B[0m \u001B[0mpd\u001B[0m\u001B[1;33m.\u001B[0m\u001B[0mread_csv\u001B[0m\u001B[1;33m(\u001B[0m\u001B[1;34m'C:/Users/halilovm/Desktop/ARX_DISTRIBUTED_RESULTS/result_now_med01.csv'\u001B[0m\u001B[1;33m,\u001B[0m \u001B[0msep\u001B[0m\u001B[1;33m=\u001B[0m\u001B[1;34m\";\"\u001B[0m\u001B[1;33m)\u001B[0m\u001B[1;33m\u001B[0m\u001B[1;33m\u001B[0m\u001B[0m\n\u001B[0m\u001B[0;32m      4\u001B[0m \u001B[1;33m\u001B[0m\u001B[0m\n\u001B[0;32m      5\u001B[0m \u001B[1;31m#df = pd.read_csv('result_copy.csv', sep=\";\")\u001B[0m\u001B[1;33m\u001B[0m\u001B[1;33m\u001B[0m\u001B[0m\n",
      "\u001B[1;32m~\\Anaconda3\\lib\\site-packages\\pandas\\util\\_decorators.py\u001B[0m in \u001B[0;36mwrapper\u001B[1;34m(*args, **kwargs)\u001B[0m\n\u001B[0;32m    309\u001B[0m                     \u001B[0mstacklevel\u001B[0m\u001B[1;33m=\u001B[0m\u001B[0mstacklevel\u001B[0m\u001B[1;33m,\u001B[0m\u001B[1;33m\u001B[0m\u001B[1;33m\u001B[0m\u001B[0m\n\u001B[0;32m    310\u001B[0m                 )\n\u001B[1;32m--> 311\u001B[1;33m             \u001B[1;32mreturn\u001B[0m \u001B[0mfunc\u001B[0m\u001B[1;33m(\u001B[0m\u001B[1;33m*\u001B[0m\u001B[0margs\u001B[0m\u001B[1;33m,\u001B[0m \u001B[1;33m**\u001B[0m\u001B[0mkwargs\u001B[0m\u001B[1;33m)\u001B[0m\u001B[1;33m\u001B[0m\u001B[1;33m\u001B[0m\u001B[0m\n\u001B[0m\u001B[0;32m    312\u001B[0m \u001B[1;33m\u001B[0m\u001B[0m\n\u001B[0;32m    313\u001B[0m         \u001B[1;32mreturn\u001B[0m \u001B[0mwrapper\u001B[0m\u001B[1;33m\u001B[0m\u001B[1;33m\u001B[0m\u001B[0m\n",
      "\u001B[1;32m~\\Anaconda3\\lib\\site-packages\\pandas\\io\\parsers\\readers.py\u001B[0m in \u001B[0;36mread_csv\u001B[1;34m(filepath_or_buffer, sep, delimiter, header, names, index_col, usecols, squeeze, prefix, mangle_dupe_cols, dtype, engine, converters, true_values, false_values, skipinitialspace, skiprows, skipfooter, nrows, na_values, keep_default_na, na_filter, verbose, skip_blank_lines, parse_dates, infer_datetime_format, keep_date_col, date_parser, dayfirst, cache_dates, iterator, chunksize, compression, thousands, decimal, lineterminator, quotechar, quoting, doublequote, escapechar, comment, encoding, encoding_errors, dialect, error_bad_lines, warn_bad_lines, on_bad_lines, delim_whitespace, low_memory, memory_map, float_precision, storage_options)\u001B[0m\n\u001B[0;32m    676\u001B[0m     \u001B[0mkwds\u001B[0m\u001B[1;33m.\u001B[0m\u001B[0mupdate\u001B[0m\u001B[1;33m(\u001B[0m\u001B[0mkwds_defaults\u001B[0m\u001B[1;33m)\u001B[0m\u001B[1;33m\u001B[0m\u001B[1;33m\u001B[0m\u001B[0m\n\u001B[0;32m    677\u001B[0m \u001B[1;33m\u001B[0m\u001B[0m\n\u001B[1;32m--> 678\u001B[1;33m     \u001B[1;32mreturn\u001B[0m \u001B[0m_read\u001B[0m\u001B[1;33m(\u001B[0m\u001B[0mfilepath_or_buffer\u001B[0m\u001B[1;33m,\u001B[0m \u001B[0mkwds\u001B[0m\u001B[1;33m)\u001B[0m\u001B[1;33m\u001B[0m\u001B[1;33m\u001B[0m\u001B[0m\n\u001B[0m\u001B[0;32m    679\u001B[0m \u001B[1;33m\u001B[0m\u001B[0m\n\u001B[0;32m    680\u001B[0m \u001B[1;33m\u001B[0m\u001B[0m\n",
      "\u001B[1;32m~\\Anaconda3\\lib\\site-packages\\pandas\\io\\parsers\\readers.py\u001B[0m in \u001B[0;36m_read\u001B[1;34m(filepath_or_buffer, kwds)\u001B[0m\n\u001B[0;32m    573\u001B[0m \u001B[1;33m\u001B[0m\u001B[0m\n\u001B[0;32m    574\u001B[0m     \u001B[1;31m# Create the parser.\u001B[0m\u001B[1;33m\u001B[0m\u001B[1;33m\u001B[0m\u001B[0m\n\u001B[1;32m--> 575\u001B[1;33m     \u001B[0mparser\u001B[0m \u001B[1;33m=\u001B[0m \u001B[0mTextFileReader\u001B[0m\u001B[1;33m(\u001B[0m\u001B[0mfilepath_or_buffer\u001B[0m\u001B[1;33m,\u001B[0m \u001B[1;33m**\u001B[0m\u001B[0mkwds\u001B[0m\u001B[1;33m)\u001B[0m\u001B[1;33m\u001B[0m\u001B[1;33m\u001B[0m\u001B[0m\n\u001B[0m\u001B[0;32m    576\u001B[0m \u001B[1;33m\u001B[0m\u001B[0m\n\u001B[0;32m    577\u001B[0m     \u001B[1;32mif\u001B[0m \u001B[0mchunksize\u001B[0m \u001B[1;32mor\u001B[0m \u001B[0miterator\u001B[0m\u001B[1;33m:\u001B[0m\u001B[1;33m\u001B[0m\u001B[1;33m\u001B[0m\u001B[0m\n",
      "\u001B[1;32m~\\Anaconda3\\lib\\site-packages\\pandas\\io\\parsers\\readers.py\u001B[0m in \u001B[0;36m__init__\u001B[1;34m(self, f, engine, **kwds)\u001B[0m\n\u001B[0;32m    930\u001B[0m \u001B[1;33m\u001B[0m\u001B[0m\n\u001B[0;32m    931\u001B[0m         \u001B[0mself\u001B[0m\u001B[1;33m.\u001B[0m\u001B[0mhandles\u001B[0m\u001B[1;33m:\u001B[0m \u001B[0mIOHandles\u001B[0m \u001B[1;33m|\u001B[0m \u001B[1;32mNone\u001B[0m \u001B[1;33m=\u001B[0m \u001B[1;32mNone\u001B[0m\u001B[1;33m\u001B[0m\u001B[1;33m\u001B[0m\u001B[0m\n\u001B[1;32m--> 932\u001B[1;33m         \u001B[0mself\u001B[0m\u001B[1;33m.\u001B[0m\u001B[0m_engine\u001B[0m \u001B[1;33m=\u001B[0m \u001B[0mself\u001B[0m\u001B[1;33m.\u001B[0m\u001B[0m_make_engine\u001B[0m\u001B[1;33m(\u001B[0m\u001B[0mf\u001B[0m\u001B[1;33m,\u001B[0m \u001B[0mself\u001B[0m\u001B[1;33m.\u001B[0m\u001B[0mengine\u001B[0m\u001B[1;33m)\u001B[0m\u001B[1;33m\u001B[0m\u001B[1;33m\u001B[0m\u001B[0m\n\u001B[0m\u001B[0;32m    933\u001B[0m \u001B[1;33m\u001B[0m\u001B[0m\n\u001B[0;32m    934\u001B[0m     \u001B[1;32mdef\u001B[0m \u001B[0mclose\u001B[0m\u001B[1;33m(\u001B[0m\u001B[0mself\u001B[0m\u001B[1;33m)\u001B[0m\u001B[1;33m:\u001B[0m\u001B[1;33m\u001B[0m\u001B[1;33m\u001B[0m\u001B[0m\n",
      "\u001B[1;32m~\\Anaconda3\\lib\\site-packages\\pandas\\io\\parsers\\readers.py\u001B[0m in \u001B[0;36m_make_engine\u001B[1;34m(self, f, engine)\u001B[0m\n\u001B[0;32m   1214\u001B[0m             \u001B[1;31m# \"Union[str, PathLike[str], ReadCsvBuffer[bytes], ReadCsvBuffer[str]]\"\u001B[0m\u001B[1;33m\u001B[0m\u001B[1;33m\u001B[0m\u001B[0m\n\u001B[0;32m   1215\u001B[0m             \u001B[1;31m# , \"str\", \"bool\", \"Any\", \"Any\", \"Any\", \"Any\", \"Any\"\u001B[0m\u001B[1;33m\u001B[0m\u001B[1;33m\u001B[0m\u001B[0m\n\u001B[1;32m-> 1216\u001B[1;33m             self.handles = get_handle(  # type: ignore[call-overload]\n\u001B[0m\u001B[0;32m   1217\u001B[0m                 \u001B[0mf\u001B[0m\u001B[1;33m,\u001B[0m\u001B[1;33m\u001B[0m\u001B[1;33m\u001B[0m\u001B[0m\n\u001B[0;32m   1218\u001B[0m                 \u001B[0mmode\u001B[0m\u001B[1;33m,\u001B[0m\u001B[1;33m\u001B[0m\u001B[1;33m\u001B[0m\u001B[0m\n",
      "\u001B[1;32m~\\Anaconda3\\lib\\site-packages\\pandas\\io\\common.py\u001B[0m in \u001B[0;36mget_handle\u001B[1;34m(path_or_buf, mode, encoding, compression, memory_map, is_text, errors, storage_options)\u001B[0m\n\u001B[0;32m    784\u001B[0m         \u001B[1;32mif\u001B[0m \u001B[0mioargs\u001B[0m\u001B[1;33m.\u001B[0m\u001B[0mencoding\u001B[0m \u001B[1;32mand\u001B[0m \u001B[1;34m\"b\"\u001B[0m \u001B[1;32mnot\u001B[0m \u001B[1;32min\u001B[0m \u001B[0mioargs\u001B[0m\u001B[1;33m.\u001B[0m\u001B[0mmode\u001B[0m\u001B[1;33m:\u001B[0m\u001B[1;33m\u001B[0m\u001B[1;33m\u001B[0m\u001B[0m\n\u001B[0;32m    785\u001B[0m             \u001B[1;31m# Encoding\u001B[0m\u001B[1;33m\u001B[0m\u001B[1;33m\u001B[0m\u001B[0m\n\u001B[1;32m--> 786\u001B[1;33m             handle = open(\n\u001B[0m\u001B[0;32m    787\u001B[0m                 \u001B[0mhandle\u001B[0m\u001B[1;33m,\u001B[0m\u001B[1;33m\u001B[0m\u001B[1;33m\u001B[0m\u001B[0m\n\u001B[0;32m    788\u001B[0m                 \u001B[0mioargs\u001B[0m\u001B[1;33m.\u001B[0m\u001B[0mmode\u001B[0m\u001B[1;33m,\u001B[0m\u001B[1;33m\u001B[0m\u001B[1;33m\u001B[0m\u001B[0m\n",
      "\u001B[1;31mFileNotFoundError\u001B[0m: [Errno 2] No such file or directory: 'C:/Users/halilovm/Desktop/ARX_DISTRIBUTED_RESULTS/result_now_med01.csv'"
     ]
    }
   ],
   "source": [
    "import pandas as pd\n",
    "import matplotlib.pyplot as plt\n",
    "df = pd.read_csv('C:/Users/halilovm/Desktop/ARX_DISTRIBUTED_RESULTS/result_now_med01.csv', sep=\";\")\n",
    "\n",
    "#df = pd.read_csv('result_copy.csv', sep=\";\")\n",
    "print(df)"
   ],
   "metadata": {
    "collapsed": false
   }
  },
  {
   "cell_type": "code",
   "execution_count": null,
   "outputs": [],
   "source": [
    "for config in df.groupby('Config').last().reset_index()['Config']:\n",
    "    for local in df.groupby('Local').last().reset_index()['Local']:\n",
    "        threads = df.loc[df.Config == config]\n",
    "        threads = threads.loc[df.Local == local][\"Threads\"]\n",
    "        timePrepare = df.loc[df.Config == config]\n",
    "        timePrepare = timePrepare.loc[df.Local == local][\"TimePrepare\"]/1000.0\n",
    "        timeAnonymize = df.loc[df.Config == config]\n",
    "        timeAnonymize = timeAnonymize.loc[df.Local == local][\"TimeAnonymize\"]/1000.0\n",
    "        timeStep2A = df.loc[df.Config == config]\n",
    "        timeStep2A = timeStep2A.loc[df.Local == local][\"TimeStep2A\"]/1000.0\n",
    "        timeStep2B = df.loc[df.Config == config]\n",
    "        timeStep2B = timeStep2B.loc[df.Local == local][\"TimeStep2B\"]/1000.0\n",
    "        timeStep3 = df.loc[df.Config == config]\n",
    "        timeStep3 = timeStep3.loc[df.Local == local][\"TimeStep3\"]/1000.0\n",
    "        timePostproces = df.loc[df.Config == config]\n",
    "        timePostproces = timePostproces.loc[df.Local == local][\"TimePostproces\"]/1000.0\n",
    "        timeQuality = df.loc[df.Config == config]\n",
    "        timeQuality = timeQuality.loc[df.Local == local][\"TimeQuality\"]/1000.0\n",
    "        time = df.loc[df.Config == config]\n",
    "        time = time.loc[df.Local == local][\"Time\"]/1000.0\n",
    "        width = 0.35\n",
    "        granularity = df.loc[df.Config == config]\n",
    "        granularity = granularity.loc[df.Local == local][\"Granularity\"]\n",
    "        fig, ax1 = plt.subplots(figsize=(3.2, 2.4))\n",
    "        ax2 = ax1.twinx()\n",
    "        #ax1.set_ylim(0, time.max() + timeQuality.max + (time.max() + timeQuality.max()) * 0.1)\n",
    "        ax2.set_ylim(0, 1.1)\n",
    "        ax1.stackplot(threads, timePrepare, timeQuality, timeStep2A, timeStep2B, timeStep3, timePostproces, labels=[\"Partitioning\", \"Calculate granularity\", \"Anonymization - If global, retrieve common scheme\", \"Anonymization - Perform local or global transformation\", \"Handle non-monotonic settings\", \"Merge partitions\",])\n",
    "        ax1.margins(x=0) # remove space between graph and y axis\n",
    "        ax1.set_xticks([1, 10, 20, 30, 40, 50, 60])\n",
    "        ax1.set_ylabel(\"Time in s\")\n",
    "        ax2.plot(threads, granularity, label=\"Granularity\", color=\"k\", marker=\".\", markersize=1)\n",
    "        ax2.set_ylabel(\"Granularity\")\n",
    "        handles, labels = ax1.get_legend_handles_labels()\n",
    "        handles2, labels2 = ax2.get_legend_handles_labels()\n",
    "        #ax2.legend(handles+handles2, labels+labels2)\n",
    "        if local:\n",
    "            ax1.set_title(config + \" (local)\")\n",
    "            plt.savefig(\"images/time_\" + config + \"_local.svg\", format='svg')\n",
    "            plt.savefig(\"images/time_\" + config + \"_local.png\", format='png')\n",
    "        else:\n",
    "            ax1.set_title(config)\n",
    "            plt.savefig(\"images/time_\" + config + \".svg\", format='svg')\n",
    "            plt.savefig(\"images/time_\" + config + \".png\", format='png')\n",
    "        plt.show()\n",
    "\n"
   ],
   "metadata": {
    "collapsed": false
   }
  },
  {
   "cell_type": "code",
   "execution_count": null,
   "outputs": [],
   "source": [
    "import matplotlib.patches as mpatches\n",
    "\n",
    "#TODO: Fix colors https://matplotlib.org/stable/gallery/color/named_colors.html\n",
    "\n",
    "\n",
    "labels = ['Memory']\n",
    "colors = ['r']\n",
    "\n",
    "fig = plt.figure(figsize=(2, 1.25))\n",
    "patches = [\n",
    "    mpatches.Patch(color=color, label=label)\n",
    "    for label, color in zip(labels, colors)]\n",
    "plt.title(\"Execution time\")\n",
    "fig.legend(patches, labels, loc='center', frameon=False)\n",
    "plt.savefig(\"legend.png\", format='png', dpi=300)\n",
    "plt.show()"
   ],
   "metadata": {
    "collapsed": false
   }
  },
  {
   "cell_type": "code",
   "execution_count": null,
   "outputs": [],
   "source": [
    "import matplotlib.patches as mpatches\n",
    "\n",
    "#TODO: Fix colors https://matplotlib.org/stable/gallery/color/named_colors.html\n",
    "\n",
    "\n",
    "labels = ['Granularity']\n",
    "colors = ['black']\n",
    "\n",
    "fig = plt.figure(figsize=(2, 1.25))\n",
    "patches = [\n",
    "    mpatches.Patch(color=color, label=label)\n",
    "    for label, color in zip(labels, colors)]\n",
    "plt.title(\"Execution time\")\n",
    "fig.legend(patches, labels, loc='center', frameon=False)\n",
    "plt.savefig(\"legend.png\", format='png', dpi=300)\n",
    "plt.show()"
   ],
   "metadata": {
    "collapsed": false
   }
  },
  {
   "cell_type": "code",
   "execution_count": null,
   "outputs": [],
   "source": [
    "import matplotlib.patches as mpatches\n",
    "\n",
    "#TODO: Fix colors https://matplotlib.org/stable/gallery/color/named_colors.html\n",
    "\n",
    "\n",
    "labels = [\"Partitioning\", \"Calculate granularity\", \"Anonymization - If global, retrieve common scheme\", \"Anonymization - Perform local or global transformation\", \"Handle non-monotonic settings\", \"Merge partitions\"]\n",
    "colors = ['lightblue', 'orange', 'cyan', 'g', 'purple', 'blue']\n",
    "\n",
    "fig = plt.figure(figsize=(2, 1.25))\n",
    "patches = [\n",
    "    mpatches.Patch(color=color, label=label)\n",
    "    for label, color in zip(labels, colors)]\n",
    "plt.title(\"Execution time\")\n",
    "fig.legend(patches, labels, loc='center', frameon=False)\n",
    "plt.savefig(\"legend.png\", format='png', dpi=300)\n",
    "plt.show()"
   ],
   "metadata": {
    "collapsed": false
   }
  },
  {
   "cell_type": "code",
   "execution_count": null,
   "outputs": [],
   "source": [],
   "metadata": {
    "collapsed": false
   }
  },
  {
   "cell_type": "code",
   "execution_count": null,
   "outputs": [],
   "source": [
    "i = 0\n",
    "# calculate std deviation\n",
    "for config in df.groupby('Config').last().reset_index()['Config']:\n",
    "    for local in df.groupby('Local').last().reset_index()['Local']:\n",
    "        i = i + 1\n",
    "        threads = df.loc[df.Config == config]\n",
    "        threads = threads.loc[df.Local == local][\"Threads\"]\n",
    "        timePrepare = df.loc[df.Config == config]\n",
    "        timePrepare = timePrepare.loc[df.Local == local][\"TimePrepare\"]\n",
    "        timeAnonymize = df.loc[df.Config == config]\n",
    "        timeAnonymize = timeAnonymize.loc[df.Local == local][\"TimeAnonymize\"]\n",
    "        timeStep2A = df.loc[df.Config == config]\n",
    "        timeStep2A = timeStep2A.loc[df.Local == local][\"TimeStep2A\"]\n",
    "        timeStep2B = df.loc[df.Config == config]\n",
    "        timeStep2B = timeStep2B.loc[df.Local == local][\"TimeStep2B\"]\n",
    "        timeStep3 = df.loc[df.Config == config]\n",
    "        timeStep3 = timeStep3.loc[df.Local == local][\"TimeStep3\"]\n",
    "        timePostproces = df.loc[df.Config == config]\n",
    "        timePostproces = timePostproces.loc[df.Local == local][\"TimePostproces\"]\n",
    "        time = df.loc[df.Config == config]\n",
    "        time = time.loc[df.Local == local][\"Time\"]\n",
    "        width = 0.35\n",
    "        granularity = df.loc[df.Config == config]\n",
    "        granularity = granularity.loc[df.Local == local][\"Granularity\"]\n",
    "\n",
    "        fig, ax1 = plt.subplots()\n",
    "        ax2 = ax1.twinx()\n",
    "        ax1.set_ylim(0, time.max() + time.max() * 0.1)\n",
    "        ax2.set_ylim(0, 1.1)\n",
    "        ax1.bar(threads, timePrepare, width=width, label=\"Partitioning\")\n",
    "        #ax1.bar(threads, timeAnonymize, width=width, bottom=timePrepare, label=\"TimeAnonymize\")\n",
    "        ax1.bar(threads, timeStep2A, width=width, bottom=timePrepare, label=\"Anonymization - If global, retrieve common scheme\")\n",
    "        ax1.bar(threads, timeStep2B, width=width, bottom=timePrepare + timeStep2A, label=\"Anonymization Perform local or global transformation\")\n",
    "        ax1.bar(threads, timeStep3, width=width, bottom=timePrepare + timeStep2A + timeStep2B, label=\"Handle non-monotonic settings\")\n",
    "        ax1.bar(threads, timePostproces, width=width, bottom=timePrepare + timeStep2A + timeStep2B + timeStep3, label=\"Merge partitions\")\n",
    "        ax1.set_ylabel(\"Time in ms\")\n",
    "        ax2.plot(threads, granularity, label=\"Granularity\", color=\"k\", marker=\".\")\n",
    "        ax2.set_ylabel(\"Granularity\")\n",
    "        #ax1.legend(loc=1)\n",
    "        #ax2.legend(loc=9)\n",
    "        handles, labels = ax1.get_legend_handles_labels()\n",
    "        handles2, labels2 = ax2.get_legend_handles_labels()\n",
    "        ax1.legend(handles+handles2, labels+labels2)\n",
    "        if local:\n",
    "            ax1.set_title(config + \" (local)\")\n",
    "        else:\n",
    "            ax1.set_title(config)\n",
    "        plt.savefig(\"test.svg\", format='svg')\n",
    "        plt.savefig(\"test.png\", format='png')\n",
    "        plt.show()\n",
    "print(i)\n"
   ],
   "metadata": {
    "collapsed": false
   }
  }
 ],
 "metadata": {
  "kernelspec": {
   "display_name": "Python 3",
   "language": "python",
   "name": "python3"
  },
  "language_info": {
   "codemirror_mode": {
    "name": "ipython",
    "version": 2
   },
   "file_extension": ".py",
   "mimetype": "text/x-python",
   "name": "python",
   "nbconvert_exporter": "python",
   "pygments_lexer": "ipython2",
   "version": "2.7.6"
  }
 },
 "nbformat": 4,
 "nbformat_minor": 0
}
