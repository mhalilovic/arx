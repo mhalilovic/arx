{
 "cells": [
  {
   "cell_type": "code",
   "execution_count": null,
   "outputs": [],
   "source": [
    "import pandas as pd\n",
    "import matplotlib.pyplot as plt\n",
    "\n",
    "df = pd.read_csv('result.csv', sep=\";\")\n",
    "print(df)"
   ],
   "metadata": {
    "collapsed": false
   }
  },
  {
   "cell_type": "code",
   "execution_count": null,
   "outputs": [],
   "source": [
    "for config in df.groupby('Config').last().reset_index()['Config']:\n",
    "    for local in df.groupby('Local').last().reset_index()['Local']:\n",
    "        threads = df.loc[df.Config == config]\n",
    "        threads = threads.loc[df.Local == local][\"Threads\"]\n",
    "        timePrepare = df.loc[df.Config == config]\n",
    "        timePrepare = timePrepare.loc[df.Local == local][\"TimePrepare\"]\n",
    "        timeAnonymize = df.loc[df.Config == config]\n",
    "        timeAnonymize = timeAnonymize.loc[df.Local == local][\"TimeAnonymize\"]\n",
    "        timeStep2A = df.loc[df.Config == config]\n",
    "        timeStep2A = timeStep2A.loc[df.Local == local][\"TimeStep2A\"]\n",
    "        timeStep2B = df.loc[df.Config == config]\n",
    "        timeStep2B = timeStep2B.loc[df.Local == local][\"TimeStep2B\"]\n",
    "        timeStep3 = df.loc[df.Config == config]\n",
    "        timeStep3 = timeStep3.loc[df.Local == local][\"TimeStep3\"]\n",
    "        timePostproces = df.loc[df.Config == config]\n",
    "        timePostproces = timePostproces.loc[df.Local == local][\"TimePostproces\"]\n",
    "        time = df.loc[df.Config == config]\n",
    "        time = time.loc[df.Local == local][\"Time\"]\n",
    "        width = 0.35\n",
    "        granularity = df.loc[df.Config == config]\n",
    "        granularity = granularity.loc[df.Local == local][\"Granularity\"]\n",
    "\n",
    "        fig, ax1 = plt.subplots()\n",
    "        ax2 = ax1.twinx()\n",
    "        ax1.set_ylim(0, time.max() + time.max() * 0.1)\n",
    "        ax2.set_ylim(0, 1.1)\n",
    "        ax1.bar(threads, timePrepare, width=width, label=\"timePrepare\")\n",
    "        #ax1.bar(threads, timeAnonymize, width=width, bottom=timePrepare, label=\"TimeAnonymize\")\n",
    "        ax1.bar(threads, timeStep2A, width=width, bottom=timePrepare, label=\"timeStep2A\")\n",
    "        ax1.bar(threads, timeStep2B, width=width, bottom=timePrepare + timeStep2A, label=\"timeStep2B\")\n",
    "        ax1.bar(threads, timeStep3, width=width, bottom=timePrepare + timeStep2A + timeStep2B, label=\"timeStep3\")\n",
    "        ax1.bar(threads, timePostproces, width=width, bottom=timePrepare + timeStep2A + timeStep2B + timeStep3, label=\"timePostproces\")\n",
    "        ax1.set_ylabel(\"Time in ms\")\n",
    "        ax2.plot(threads, granularity, label=\"Granularity\", color=\"k\", marker=\"o\")\n",
    "        ax2.set_ylabel(\"Granularity\")\n",
    "        #ax1.legend(loc=1)\n",
    "        #ax2.legend(loc=9)\n",
    "        handles, labels = ax1.get_legend_handles_labels()\n",
    "        handles2, labels2 = ax2.get_legend_handles_labels()\n",
    "        ax1.legend(handles+handles2, labels+labels2)\n",
    "        if local:\n",
    "            ax1.set_title(config + \" (local)\")\n",
    "        else:\n",
    "            ax1.set_title(config)\n",
    "        plt.xticks(range(1,threads.size+1))\n",
    "        plt.savefig(\"test.svg\", format='svg')\n",
    "        plt.savefig(\"test.png\", format='png')\n",
    "        plt.show()\n"
   ],
   "metadata": {
    "collapsed": false
   }
  },
  {
   "cell_type": "code",
   "execution_count": null,
   "outputs": [],
   "source": [
    "for config in df.groupby('Config').last().reset_index()['Config']:\n",
    "    for local in df.groupby('Local').last().reset_index()['Local']:\n",
    "        threads = df.loc[df.Config == config]\n",
    "        threads = threads.loc[df.Local == local][\"Threads\"]\n",
    "        timePrepare = df.loc[df.Config == config]\n",
    "        timePrepare = timePrepare.loc[df.Local == local][\"TimePrepare\"]\n",
    "        timeAnonymize = df.loc[df.Config == config]\n",
    "        timeAnonymize = timeAnonymize.loc[df.Local == local][\"TimeAnonymize\"]\n",
    "        timeStep2A = df.loc[df.Config == config]\n",
    "        timeStep2A = timeStep2A.loc[df.Local == local][\"TimeStep2A\"]\n",
    "        timeStep2B = df.loc[df.Config == config]\n",
    "        timeStep2B = timeStep2B.loc[df.Local == local][\"TimeStep2B\"]\n",
    "        timeStep3 = df.loc[df.Config == config]\n",
    "        timeStep3 = timeStep3.loc[df.Local == local][\"TimeStep3\"]\n",
    "        timePostproces = df.loc[df.Config == config]\n",
    "        timePostproces = timePostproces.loc[df.Local == local][\"TimePostproces\"]\n",
    "        time = df.loc[df.Config == config]\n",
    "        time = time.loc[df.Local == local][\"Time\"]\n",
    "        width = 0.35\n",
    "        granularity = df.loc[df.Config == config]\n",
    "        granularity = granularity.loc[df.Local == local][\"Granularity\"]\n",
    "        fig, ax1 = plt.subplots()\n",
    "        ax2 = ax1.twinx()\n",
    "        ax1.set_ylim(0, time.max() + time.max() * 0.1)\n",
    "        ax2.set_ylim(0, 1.1)\n",
    "        ax1.stackplot(threads, timePrepare, timeStep2A, timeStep2B, timeStep3, timePostproces, labels=[\"timePrepare\", \"timeStep2A\", \"timeStep2B\", \"timeStep3\", \"timePostproces\",])\n",
    "        ax1.set_ylabel(\"Time in ms\")\n",
    "        ax2.plot(threads, granularity, label=\"Granularity\", color=\"k\", marker=\"o\")\n",
    "        ax2.set_ylabel(\"Granularity\")\n",
    "        #ax1.legend(loc=1)\n",
    "        #ax2.legend(loc=9)\n",
    "        handles, labels = ax1.get_legend_handles_labels()\n",
    "        handles2, labels2 = ax2.get_legend_handles_labels()\n",
    "        ax1.legend(handles+handles2, labels+labels2)\n",
    "        if local:\n",
    "            ax1.set_title(config + \" (local)\")\n",
    "        else:\n",
    "            ax1.set_title(config)\n",
    "        plt.xticks(range(1,threads.size+1))\n",
    "        plt.savefig(\"test.svg\", format='svg')\n",
    "        plt.savefig(\"test.png\", format='png')\n",
    "        plt.show()\n"
   ],
   "metadata": {
    "collapsed": false
   }
  },
  {
   "cell_type": "code",
   "execution_count": null,
   "outputs": [],
   "source": [],
   "metadata": {
    "collapsed": false
   }
  }
 ],
 "metadata": {
  "kernelspec": {
   "display_name": "Python 3",
   "language": "python",
   "name": "python3"
  },
  "language_info": {
   "codemirror_mode": {
    "name": "ipython",
    "version": 2
   },
   "file_extension": ".py",
   "mimetype": "text/x-python",
   "name": "python",
   "nbconvert_exporter": "python",
   "pygments_lexer": "ipython2",
   "version": "2.7.6"
  }
 },
 "nbformat": 4,
 "nbformat_minor": 0
}
