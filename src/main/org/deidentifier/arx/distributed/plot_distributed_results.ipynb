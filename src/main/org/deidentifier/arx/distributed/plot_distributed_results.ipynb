{
 "cells": [
  {
   "cell_type": "code",
   "execution_count": null,
   "metadata": {
    "collapsed": true
   },
   "outputs": [],
   "source": [
    "import pandas as pd\n",
    "import matplotlib.pyplot as plt\n",
    "\n",
    "df = pd.read_csv('result.csv', sep=\";\")\n",
    "print(df)"
   ]
  },
  {
   "cell_type": "code",
   "execution_count": null,
   "outputs": [],
   "source": [
    "for config in df.groupby('Config').last().reset_index()['Config']:\n",
    "    threads = df.loc[df.Config == config][\"Threads\"]\n",
    "    timePrepare = df.loc[df.Config == config][\"TimePrepare\"]\n",
    "    timeAnonymize = df.loc[df.Config == config][\"TimeAnonymize\"]\n",
    "    timePostproces = df.loc[df.Config == config][\"TimePostproces\"]\n",
    "    time = df.loc[df.Config == config][\"Time\"]\n",
    "    width = 0.35\n",
    "    granularity = df.loc[df.Config == config][\"Granularity\"]\n",
    "\n",
    "    fig, ax1 = plt.subplots()\n",
    "    ax2 = ax1.twinx()\n",
    "    ax1.set_ylim(0, 150000)\n",
    "    ax2.set_ylim(0, 1)\n",
    "    ax1.bar(threads, timePrepare, width=width, label=\"TimePrepare\")\n",
    "    ax1.bar(threads, timeAnonymize, width=width, bottom=timePrepare, label=\"TimeAnonymize\")\n",
    "    ax1.bar(threads, timePostproces, width=width, bottom=timePrepare + timeAnonymize, label=\"TimePostproces\")\n",
    "    ax1.set_ylabel(\"Time in ms\")\n",
    "    ax2.plot(threads, granularity, label=\"Granularity\", color=\"k\", marker=\"o\")\n",
    "    ax2.set_ylabel(\"Granularity\")\n",
    "    #ax1.legend(loc=1)\n",
    "    #ax2.legend(loc=9)\n",
    "    handles, labels = ax1.get_legend_handles_labels()\n",
    "    handles2, labels2 = ax2.get_legend_handles_labels()\n",
    "    ax1.legend(handles+handles2, labels+labels2)\n",
    "    ax1.set_title(config)\n",
    "    plt.xticks(range(1,threads.size+1))\n",
    "    plt.show()"
   ],
   "metadata": {
    "collapsed": false
   }
  }
 ],
 "metadata": {
  "kernelspec": {
   "display_name": "Python 3",
   "language": "python",
   "name": "python3"
  },
  "language_info": {
   "codemirror_mode": {
    "name": "ipython",
    "version": 2
   },
   "file_extension": ".py",
   "mimetype": "text/x-python",
   "name": "python",
   "nbconvert_exporter": "python",
   "pygments_lexer": "ipython2",
   "version": "2.7.6"
  }
 },
 "nbformat": 4,
 "nbformat_minor": 0
}
