{
 "cells": [
  {
   "cell_type": "code",
   "execution_count": null,
   "outputs": [],
   "source": [
    "import pandas as pd\n",
    "import matplotlib.pyplot as plt\n",
    "\n",
    "df = pd.read_csv('result_copy.csv', sep=\";\")\n",
    "print(df)"
   ],
   "metadata": {
    "collapsed": false
   }
  },
  {
   "cell_type": "code",
   "execution_count": null,
   "outputs": [],
   "source": [
    "for config in df.groupby('Config').last().reset_index()['Config']:\n",
    "    for local in df.groupby('Local').last().reset_index()['Local']:\n",
    "        threads = df.loc[df.Config == config]\n",
    "        threads = threads.loc[df.Local == local][\"Threads\"]\n",
    "        timePrepare = df.loc[df.Config == config]\n",
    "        timePrepare = timePrepare.loc[df.Local == local][\"TimePrepare\"]/1000.0\n",
    "        timeAnonymize = df.loc[df.Config == config]\n",
    "        timeAnonymize = timeAnonymize.loc[df.Local == local][\"TimeAnonymize\"]/1000.0\n",
    "        timeStep2A = df.loc[df.Config == config]\n",
    "        timeStep2A = timeStep2A.loc[df.Local == local][\"TimeStep2A\"]/1000.0\n",
    "        timeStep2B = df.loc[df.Config == config]\n",
    "        timeStep2B = timeStep2B.loc[df.Local == local][\"TimeStep2B\"]/1000.0\n",
    "        timeStep3 = df.loc[df.Config == config]\n",
    "        timeStep3 = timeStep3.loc[df.Local == local][\"TimeStep3\"]/1000.0\n",
    "        timePostproces = df.loc[df.Config == config]\n",
    "        timePostproces = timePostproces.loc[df.Local == local][\"TimePostproces\"]/1000.0\n",
    "        timeQuality = df.loc[df.Config == config]\n",
    "        timeQuality = timeQuality.loc[df.Local == local][\"TimeQuality\"]/1000.0\n",
    "        time = df.loc[df.Config == config]\n",
    "        time = time.loc[df.Local == local][\"Time\"]/1000.0\n",
    "        width = 0.35\n",
    "        granularity = df.loc[df.Config == config]\n",
    "        granularity = granularity.loc[df.Local == local][\"Granularity\"]\n",
    "        fig, ax1 = plt.subplots(figsize=(3.2, 2.4))\n",
    "        ax2 = ax1.twinx()\n",
    "        #ax1.set_ylim(0, time.max() + timeQuality.max + (time.max() + timeQuality.max()) * 0.1)\n",
    "        ax2.set_ylim(0, 1.1)\n",
    "        ax1.stackplot(threads, timePrepare, timeQuality, timeStep2A, timeStep2B, timeStep3, timePostproces, labels=[\"Partitioning\", \"Calculate granularity\", \"Anonymization - If global, retrieve common scheme\", \"Anonymization - Perform local or global transformation\", \"Handle non-monotonic settings\", \"Merge partitions\",])\n",
    "        ax1.margins(x=0) # remove space between graph and y axis\n",
    "        ax1.set_xticks([1, 10, 20, 30, 40, 50, 60])\n",
    "        ax1.set_ylabel(\"Time in s\")\n",
    "        ax2.plot(threads, granularity, label=\"Granularity\", color=\"k\", marker=\".\", markersize=1)\n",
    "        ax2.set_ylabel(\"Granularity\")\n",
    "        handles, labels = ax1.get_legend_handles_labels()\n",
    "        handles2, labels2 = ax2.get_legend_handles_labels()\n",
    "        #ax2.legend(handles+handles2, labels+labels2)\n",
    "        if local:\n",
    "            ax1.set_title(config + \" (local)\")\n",
    "            plt.savefig(\"images/time_\" + config + \"_local.svg\", format='svg')\n",
    "            plt.savefig(\"images/time_\" + config + \"_local.png\", format='png')\n",
    "        else:\n",
    "            ax1.set_title(config)\n",
    "            plt.savefig(\"images/time_\" + config + \".svg\", format='svg')\n",
    "            plt.savefig(\"images/time_\" + config + \".png\", format='png')\n",
    "        plt.show()\n",
    "\n"
   ],
   "metadata": {
    "collapsed": false
   }
  },
  {
   "cell_type": "code",
   "execution_count": null,
   "outputs": [],
   "source": [
    "import matplotlib.patches as mpatches\n",
    "\n",
    "#TODO: Fix colors https://matplotlib.org/stable/gallery/color/named_colors.html\n",
    "\n",
    "\n",
    "labels = ['Memory']\n",
    "colors = ['r']\n",
    "\n",
    "fig = plt.figure(figsize=(2, 1.25))\n",
    "patches = [\n",
    "    mpatches.Patch(color=color, label=label)\n",
    "    for label, color in zip(labels, colors)]\n",
    "plt.title(\"Execution time\")\n",
    "fig.legend(patches, labels, loc='center', frameon=False)\n",
    "plt.savefig(\"legend.png\", format='png', dpi=300)\n",
    "plt.show()"
   ],
   "metadata": {
    "collapsed": false
   }
  },
  {
   "cell_type": "code",
   "execution_count": null,
   "outputs": [],
   "source": [
    "import matplotlib.patches as mpatches\n",
    "\n",
    "#TODO: Fix colors https://matplotlib.org/stable/gallery/color/named_colors.html\n",
    "\n",
    "\n",
    "labels = ['Granularity']\n",
    "colors = ['black']\n",
    "\n",
    "fig = plt.figure(figsize=(2, 1.25))\n",
    "patches = [\n",
    "    mpatches.Patch(color=color, label=label)\n",
    "    for label, color in zip(labels, colors)]\n",
    "plt.title(\"Execution time\")\n",
    "fig.legend(patches, labels, loc='center', frameon=False)\n",
    "plt.savefig(\"legend.png\", format='png', dpi=300)\n",
    "plt.show()"
   ],
   "metadata": {
    "collapsed": false
   }
  },
  {
   "cell_type": "code",
   "execution_count": null,
   "outputs": [],
   "source": [
    "import matplotlib.patches as mpatches\n",
    "\n",
    "#TODO: Fix colors https://matplotlib.org/stable/gallery/color/named_colors.html\n",
    "\n",
    "\n",
    "labels = [\"Partitioning\", \"Calculate granularity\", \"Anonymization - If global, retrieve common scheme\", \"Anonymization - Perform local or global transformation\", \"Handle non-monotonic settings\", \"Merge partitions\"]\n",
    "colors = ['lightblue', 'orange', 'cyan', 'g', 'purple', 'blue']\n",
    "\n",
    "fig = plt.figure(figsize=(2, 1.25))\n",
    "patches = [\n",
    "    mpatches.Patch(color=color, label=label)\n",
    "    for label, color in zip(labels, colors)]\n",
    "plt.title(\"Execution time\")\n",
    "fig.legend(patches, labels, loc='center', frameon=False)\n",
    "plt.savefig(\"legend.png\", format='png', dpi=300)\n",
    "plt.show()"
   ],
   "metadata": {
    "collapsed": false
   }
  },
  {
   "cell_type": "code",
   "execution_count": null,
   "outputs": [],
   "source": [],
   "metadata": {
    "collapsed": false
   }
  },
  {
   "cell_type": "code",
   "execution_count": null,
   "outputs": [],
   "source": [
    "i = 0\n",
    "# calculate std deviation\n",
    "for config in df.groupby('Config').last().reset_index()['Config']:\n",
    "    for local in df.groupby('Local').last().reset_index()['Local']:\n",
    "        i = i + 1\n",
    "        threads = df.loc[df.Config == config]\n",
    "        threads = threads.loc[df.Local == local][\"Threads\"]\n",
    "        timePrepare = df.loc[df.Config == config]\n",
    "        timePrepare = timePrepare.loc[df.Local == local][\"TimePrepare\"]\n",
    "        timeAnonymize = df.loc[df.Config == config]\n",
    "        timeAnonymize = timeAnonymize.loc[df.Local == local][\"TimeAnonymize\"]\n",
    "        timeStep2A = df.loc[df.Config == config]\n",
    "        timeStep2A = timeStep2A.loc[df.Local == local][\"TimeStep2A\"]\n",
    "        timeStep2B = df.loc[df.Config == config]\n",
    "        timeStep2B = timeStep2B.loc[df.Local == local][\"TimeStep2B\"]\n",
    "        timeStep3 = df.loc[df.Config == config]\n",
    "        timeStep3 = timeStep3.loc[df.Local == local][\"TimeStep3\"]\n",
    "        timePostproces = df.loc[df.Config == config]\n",
    "        timePostproces = timePostproces.loc[df.Local == local][\"TimePostproces\"]\n",
    "        time = df.loc[df.Config == config]\n",
    "        time = time.loc[df.Local == local][\"Time\"]\n",
    "        width = 0.35\n",
    "        granularity = df.loc[df.Config == config]\n",
    "        granularity = granularity.loc[df.Local == local][\"Granularity\"]\n",
    "\n",
    "        fig, ax1 = plt.subplots()\n",
    "        ax2 = ax1.twinx()\n",
    "        ax1.set_ylim(0, time.max() + time.max() * 0.1)\n",
    "        ax2.set_ylim(0, 1.1)\n",
    "        ax1.bar(threads, timePrepare, width=width, label=\"Partitioning\")\n",
    "        #ax1.bar(threads, timeAnonymize, width=width, bottom=timePrepare, label=\"TimeAnonymize\")\n",
    "        ax1.bar(threads, timeStep2A, width=width, bottom=timePrepare, label=\"Anonymization - If global, retrieve common scheme\")\n",
    "        ax1.bar(threads, timeStep2B, width=width, bottom=timePrepare + timeStep2A, label=\"Anonymization Perform local or global transformation\")\n",
    "        ax1.bar(threads, timeStep3, width=width, bottom=timePrepare + timeStep2A + timeStep2B, label=\"Handle non-monotonic settings\")\n",
    "        ax1.bar(threads, timePostproces, width=width, bottom=timePrepare + timeStep2A + timeStep2B + timeStep3, label=\"Merge partitions\")\n",
    "        ax1.set_ylabel(\"Time in ms\")\n",
    "        ax2.plot(threads, granularity, label=\"Granularity\", color=\"k\", marker=\".\")\n",
    "        ax2.set_ylabel(\"Granularity\")\n",
    "        #ax1.legend(loc=1)\n",
    "        #ax2.legend(loc=9)\n",
    "        handles, labels = ax1.get_legend_handles_labels()\n",
    "        handles2, labels2 = ax2.get_legend_handles_labels()\n",
    "        ax1.legend(handles+handles2, labels+labels2)\n",
    "        if local:\n",
    "            ax1.set_title(config + \" (local)\")\n",
    "        else:\n",
    "            ax1.set_title(config)\n",
    "        plt.savefig(\"test.svg\", format='svg')\n",
    "        plt.savefig(\"test.png\", format='png')\n",
    "        plt.show()\n",
    "print(i)\n"
   ],
   "metadata": {
    "collapsed": false
   }
  }
 ],
 "metadata": {
  "kernelspec": {
   "display_name": "Python 3",
   "language": "python",
   "name": "python3"
  },
  "language_info": {
   "codemirror_mode": {
    "name": "ipython",
    "version": 2
   },
   "file_extension": ".py",
   "mimetype": "text/x-python",
   "name": "python",
   "nbconvert_exporter": "python",
   "pygments_lexer": "ipython2",
   "version": "2.7.6"
  }
 },
 "nbformat": 4,
 "nbformat_minor": 0
}
